{
 "cells": [
  {
   "cell_type": "code",
   "execution_count": 1,
   "id": "6b4f4b7e-207e-42d3-aeb1-f1526e159c65",
   "metadata": {},
   "outputs": [
    {
     "name": "stdout",
     "output_type": "stream",
     "text": [
      "Defaulting to user installation because normal site-packages is not writeable\n",
      "Requirement already satisfied: numpy in c:\\users\\user\\appdata\\roaming\\python\\python312\\site-packages (1.26.4)\n",
      "Defaulting to user installation because normal site-packages is not writeable\n",
      "Requirement already satisfied: pandas in c:\\users\\user\\appdata\\roaming\\python\\python312\\site-packages (2.2.2)\n",
      "Requirement already satisfied: numpy>=1.26.0 in c:\\users\\user\\appdata\\roaming\\python\\python312\\site-packages (from pandas) (1.26.4)\n",
      "Requirement already satisfied: python-dateutil>=2.8.2 in c:\\programdata\\anaconda3\\envs\\notebook\\lib\\site-packages (from pandas) (2.8.2)\n",
      "Requirement already satisfied: pytz>=2020.1 in c:\\programdata\\anaconda3\\envs\\notebook\\lib\\site-packages (from pandas) (2023.3.post1)\n",
      "Requirement already satisfied: tzdata>=2022.7 in c:\\users\\user\\appdata\\roaming\\python\\python312\\site-packages (from pandas) (2024.1)\n",
      "Requirement already satisfied: six>=1.5 in c:\\programdata\\anaconda3\\envs\\notebook\\lib\\site-packages (from python-dateutil>=2.8.2->pandas) (1.16.0)\n",
      "Defaulting to user installation because normal site-packages is not writeable\n",
      "Requirement already satisfied: matplotlib in c:\\users\\user\\appdata\\roaming\\python\\python312\\site-packages (3.8.4)\n",
      "Requirement already satisfied: contourpy>=1.0.1 in c:\\users\\user\\appdata\\roaming\\python\\python312\\site-packages (from matplotlib) (1.2.1)\n",
      "Requirement already satisfied: cycler>=0.10 in c:\\users\\user\\appdata\\roaming\\python\\python312\\site-packages (from matplotlib) (0.12.1)\n",
      "Requirement already satisfied: fonttools>=4.22.0 in c:\\users\\user\\appdata\\roaming\\python\\python312\\site-packages (from matplotlib) (4.51.0)\n",
      "Requirement already satisfied: kiwisolver>=1.3.1 in c:\\users\\user\\appdata\\roaming\\python\\python312\\site-packages (from matplotlib) (1.4.5)\n",
      "Requirement already satisfied: numpy>=1.21 in c:\\users\\user\\appdata\\roaming\\python\\python312\\site-packages (from matplotlib) (1.26.4)\n",
      "Requirement already satisfied: packaging>=20.0 in c:\\programdata\\anaconda3\\envs\\notebook\\lib\\site-packages (from matplotlib) (23.2)\n",
      "Requirement already satisfied: pillow>=8 in c:\\users\\user\\appdata\\roaming\\python\\python312\\site-packages (from matplotlib) (10.3.0)\n",
      "Requirement already satisfied: pyparsing>=2.3.1 in c:\\users\\user\\appdata\\roaming\\python\\python312\\site-packages (from matplotlib) (3.1.2)\n",
      "Requirement already satisfied: python-dateutil>=2.7 in c:\\programdata\\anaconda3\\envs\\notebook\\lib\\site-packages (from matplotlib) (2.8.2)\n",
      "Requirement already satisfied: six>=1.5 in c:\\programdata\\anaconda3\\envs\\notebook\\lib\\site-packages (from python-dateutil>=2.7->matplotlib) (1.16.0)\n"
     ]
    }
   ],
   "source": [
    "!pip install numpy\n",
    "!pip install pandas\n",
    "!pip install matplotlib"
   ]
  },
  {
   "cell_type": "code",
   "execution_count": 2,
   "id": "1dfdb6dc-cd46-4863-8399-83372392ff79",
   "metadata": {},
   "outputs": [
    {
     "name": "stdout",
     "output_type": "stream",
     "text": [
      "       類別  學校代碼        學校名稱    核定經費(單位：元)\n",
      "0    一般大學     1      國立政治大學   285790000.0\n",
      "1    一般大學     2      國立清華大學  1000000000.0\n",
      "2    一般大學     3      國立臺灣大學  1800000000.0\n",
      "3    一般大學     4    國立臺灣師範大學   206900000.0\n",
      "4    一般大學     5      國立成功大學  1100000000.0\n",
      "..    ...   ...         ...           ...\n",
      "153  技專校院  1288  高美醫護管理專科學校           0.0\n",
      "154  技專校院  1289  育英醫護管理專科學校    10690000.0\n",
      "155  技專校院  1290  崇仁醫護管理專科學校    11320000.0\n",
      "156  技專校院  1291  聖母醫護管理專科學校     8197342.0\n",
      "157  技專校院  1292  新生醫護管理專科學校    20088500.0\n",
      "\n",
      "[158 rows x 4 columns]\n",
      "<class 'pandas.core.frame.DataFrame'>\n",
      "RangeIndex: 158 entries, 0 to 157\n",
      "Data columns (total 4 columns):\n",
      " #   Column      Non-Null Count  Dtype \n",
      "---  ------      --------------  ----- \n",
      " 0   類別          158 non-null    object\n",
      " 1   學校代碼        158 non-null    object\n",
      " 2   學校名稱        158 non-null    object\n",
      " 3   核定經費(單位：元)  158 non-null    object\n",
      "dtypes: object(4)\n",
      "memory usage: 5.1+ KB\n",
      "None\n"
     ]
    },
    {
     "ename": "TypeError",
     "evalue": "Cannot use method 'nlargest' with dtype object",
     "output_type": "error",
     "traceback": [
      "\u001b[1;31m---------------------------------------------------------------------------\u001b[0m",
      "\u001b[1;31mTypeError\u001b[0m                                 Traceback (most recent call last)",
      "Cell \u001b[1;32mIn[2], line 48\u001b[0m\n\u001b[0;32m     44\u001b[0m max_funds_uni\u001b[38;5;241m.\u001b[39mappend(\u001b[38;5;28mlocals\u001b[39m()[\u001b[38;5;124m'\u001b[39m\u001b[38;5;124mdf_\u001b[39m\u001b[38;5;124m'\u001b[39m\u001b[38;5;241m+\u001b[39m\u001b[38;5;28mstr\u001b[39m(i)]\u001b[38;5;241m.\u001b[39miloc[:,\u001b[38;5;241m2\u001b[39m][\u001b[38;5;28mlocals\u001b[39m()[\u001b[38;5;124m'\u001b[39m\u001b[38;5;124mdf_\u001b[39m\u001b[38;5;124m'\u001b[39m\u001b[38;5;241m+\u001b[39m\u001b[38;5;28mstr\u001b[39m(i)]\u001b[38;5;241m.\u001b[39miloc[:,\u001b[38;5;241m3\u001b[39m] \u001b[38;5;241m==\u001b[39m max_funds])\n\u001b[0;32m     45\u001b[0m \u001b[38;5;66;03m#print (max_funds)\u001b[39;00m\n\u001b[0;32m     46\u001b[0m \n\u001b[0;32m     47\u001b[0m \u001b[38;5;66;03m# Top 10 funding\u001b[39;00m\n\u001b[1;32m---> 48\u001b[0m top10_funds \u001b[38;5;241m=\u001b[39m n\u001b[38;5;241m.\u001b[39mnlargest(\u001b[38;5;241m10\u001b[39m)\n\u001b[0;32m     49\u001b[0m \u001b[38;5;66;03m#max_funds_uni.append(locals()['df_'+str(i)].iloc[:,2][locals()['df_'+str(i)].iloc[:,3] == top10_funds])\u001b[39;00m\n\u001b[0;32m     50\u001b[0m \u001b[38;5;66;03m#print (top10_funds)\u001b[39;00m\n\u001b[0;32m     51\u001b[0m \n\u001b[0;32m     52\u001b[0m \u001b[38;5;66;03m# Minimum funding\u001b[39;00m\n\u001b[0;32m     53\u001b[0m min_funds \u001b[38;5;241m=\u001b[39m n\u001b[38;5;241m.\u001b[39mmin()\n",
      "File \u001b[1;32m~\\AppData\\Roaming\\Python\\Python312\\site-packages\\pandas\\core\\series.py:4252\u001b[0m, in \u001b[0;36mSeries.nlargest\u001b[1;34m(self, n, keep)\u001b[0m\n\u001b[0;32m   4154\u001b[0m \u001b[38;5;28;01mdef\u001b[39;00m \u001b[38;5;21mnlargest\u001b[39m(\n\u001b[0;32m   4155\u001b[0m     \u001b[38;5;28mself\u001b[39m, n: \u001b[38;5;28mint\u001b[39m \u001b[38;5;241m=\u001b[39m \u001b[38;5;241m5\u001b[39m, keep: Literal[\u001b[38;5;124m\"\u001b[39m\u001b[38;5;124mfirst\u001b[39m\u001b[38;5;124m\"\u001b[39m, \u001b[38;5;124m\"\u001b[39m\u001b[38;5;124mlast\u001b[39m\u001b[38;5;124m\"\u001b[39m, \u001b[38;5;124m\"\u001b[39m\u001b[38;5;124mall\u001b[39m\u001b[38;5;124m\"\u001b[39m] \u001b[38;5;241m=\u001b[39m \u001b[38;5;124m\"\u001b[39m\u001b[38;5;124mfirst\u001b[39m\u001b[38;5;124m\"\u001b[39m\n\u001b[0;32m   4156\u001b[0m ) \u001b[38;5;241m-\u001b[39m\u001b[38;5;241m>\u001b[39m Series:\n\u001b[0;32m   4157\u001b[0m \u001b[38;5;250m    \u001b[39m\u001b[38;5;124;03m\"\"\"\u001b[39;00m\n\u001b[0;32m   4158\u001b[0m \u001b[38;5;124;03m    Return the largest `n` elements.\u001b[39;00m\n\u001b[0;32m   4159\u001b[0m \n\u001b[1;32m   (...)\u001b[0m\n\u001b[0;32m   4250\u001b[0m \u001b[38;5;124;03m    dtype: int64\u001b[39;00m\n\u001b[0;32m   4251\u001b[0m \u001b[38;5;124;03m    \"\"\"\u001b[39;00m\n\u001b[1;32m-> 4252\u001b[0m     \u001b[38;5;28;01mreturn\u001b[39;00m selectn\u001b[38;5;241m.\u001b[39mSelectNSeries(\u001b[38;5;28mself\u001b[39m, n\u001b[38;5;241m=\u001b[39mn, keep\u001b[38;5;241m=\u001b[39mkeep)\u001b[38;5;241m.\u001b[39mnlargest()\n",
      "File \u001b[1;32m~\\AppData\\Roaming\\Python\\Python312\\site-packages\\pandas\\core\\methods\\selectn.py:57\u001b[0m, in \u001b[0;36mSelectN.nlargest\u001b[1;34m(self)\u001b[0m\n\u001b[0;32m     55\u001b[0m \u001b[38;5;129m@final\u001b[39m\n\u001b[0;32m     56\u001b[0m \u001b[38;5;28;01mdef\u001b[39;00m \u001b[38;5;21mnlargest\u001b[39m(\u001b[38;5;28mself\u001b[39m):\n\u001b[1;32m---> 57\u001b[0m     \u001b[38;5;28;01mreturn\u001b[39;00m \u001b[38;5;28mself\u001b[39m\u001b[38;5;241m.\u001b[39mcompute(\u001b[38;5;124m\"\u001b[39m\u001b[38;5;124mnlargest\u001b[39m\u001b[38;5;124m\"\u001b[39m)\n",
      "File \u001b[1;32m~\\AppData\\Roaming\\Python\\Python312\\site-packages\\pandas\\core\\methods\\selectn.py:96\u001b[0m, in \u001b[0;36mSelectNSeries.compute\u001b[1;34m(self, method)\u001b[0m\n\u001b[0;32m     94\u001b[0m dtype \u001b[38;5;241m=\u001b[39m \u001b[38;5;28mself\u001b[39m\u001b[38;5;241m.\u001b[39mobj\u001b[38;5;241m.\u001b[39mdtype\n\u001b[0;32m     95\u001b[0m \u001b[38;5;28;01mif\u001b[39;00m \u001b[38;5;129;01mnot\u001b[39;00m \u001b[38;5;28mself\u001b[39m\u001b[38;5;241m.\u001b[39mis_valid_dtype_n_method(dtype):\n\u001b[1;32m---> 96\u001b[0m     \u001b[38;5;28;01mraise\u001b[39;00m \u001b[38;5;167;01mTypeError\u001b[39;00m(\u001b[38;5;124mf\u001b[39m\u001b[38;5;124m\"\u001b[39m\u001b[38;5;124mCannot use method \u001b[39m\u001b[38;5;124m'\u001b[39m\u001b[38;5;132;01m{\u001b[39;00mmethod\u001b[38;5;132;01m}\u001b[39;00m\u001b[38;5;124m'\u001b[39m\u001b[38;5;124m with dtype \u001b[39m\u001b[38;5;132;01m{\u001b[39;00mdtype\u001b[38;5;132;01m}\u001b[39;00m\u001b[38;5;124m\"\u001b[39m)\n\u001b[0;32m     98\u001b[0m \u001b[38;5;28;01mif\u001b[39;00m n \u001b[38;5;241m<\u001b[39m\u001b[38;5;241m=\u001b[39m \u001b[38;5;241m0\u001b[39m:\n\u001b[0;32m     99\u001b[0m     \u001b[38;5;28;01mreturn\u001b[39;00m \u001b[38;5;28mself\u001b[39m\u001b[38;5;241m.\u001b[39mobj[[]]\n",
      "\u001b[1;31mTypeError\u001b[0m: Cannot use method 'nlargest' with dtype object"
     ]
    }
   ],
   "source": [
    "import os\n",
    "import numpy as np\n",
    "import pandas as pd\n",
    "import matplotlib.pyplot as plt\n",
    "\n",
    "dir_data = 'D:\\\\Google Drive\\\\Pending\\\\Potstickers Python\\\\Python Homework 2024.04.16'\n",
    "\n",
    "years = []\n",
    "approved_funds = []\n",
    "max_funds_uni = []\n",
    "min_funds_uni = []\n",
    "top10_funds_uni = []\n",
    "bot10_funds_uni = []\n",
    "\n",
    "for i in range(107,112):\n",
    "    locals()['csv_'+str(i)] = os.path.join(dir_data, str(i)+'.csv')\n",
    "    locals()['df_'+str(i)] = pd.read_csv(locals()['csv_'+str(i)],encoding='big5')\n",
    "    \n",
    "    #print(str(i)+'年')\n",
    "    #print(locals()['df_'+str(i)])\n",
    "    #print(locals()['df_'+str(i)].info())\n",
    "    \n",
    "    if locals()['df_'+str(i)].iloc[:,3].dtypes == 'object':\n",
    "        locals()['df_'+str(i)].iloc[:,3] = locals()['df_'+str(i)].iloc[:,3].str.replace(',','')\n",
    "        locals()['df_'+str(i)].iloc[:,3] = locals()['df_'+str(i)].iloc[:,3].str.replace('-','0')\n",
    "        locals()['df_'+str(i)].iloc[:,3] = pd.to_numeric(locals()['df_'+str(i)].iloc[:,3], errors='coerce')\n",
    "        locals()['df_'+str(i)].iloc[:,3] = locals()['df_'+str(i)].iloc[:,3].astype(str)\n",
    "        locals()['df_'+str(i)].iloc[:,3] = locals()['df_'+str(i)].iloc[:,3].str.replace('NaN','0')\n",
    "        locals()['df_'+str(i)].iloc[:,3] = pd.to_numeric(locals()['df_'+str(i)].iloc[:,3], errors='coerce')\n",
    "        locals()['df_'+str(i)].iloc[:,3] = locals()['df_'+str(i)].iloc[:,3].astype(float)\n",
    "        \n",
    "    \n",
    "    n = locals()['df_'+str(i)].iloc[:,3]\n",
    "    print(locals()['df_'+str(i)])\n",
    "    print(locals()['df_'+str(i)].info())\n",
    "    m = n.sum()\n",
    "    \n",
    "    approved_funds.append(m)\n",
    "    years.append(i)\n",
    "    #locals()['df_'+str(i)].to_csv(\"C:\\\\Users\\\\user\\\\Desktop\\\\\"+'df_'+str(i)+'.csv')\n",
    "    \n",
    "    # Maximum funding\n",
    "    max_funds = n.max()\n",
    "    max_funds_uni.append(locals()['df_'+str(i)].iloc[:,2][locals()['df_'+str(i)].iloc[:,3] == max_funds])\n",
    "    #print (max_funds)\n",
    "    \n",
    "    # Top 10 funding\n",
    "    top10_funds = n.nlargest(10)\n",
    "    #max_funds_uni.append(locals()['df_'+str(i)].iloc[:,2][locals()['df_'+str(i)].iloc[:,3] == top10_funds])\n",
    "    #print (top10_funds)\n",
    "\n",
    "    # Minimum funding\n",
    "    min_funds = n.min()\n",
    "    min_funds_uni.append(locals()['df_'+str(i)].iloc[:,2][locals()['df_'+str(i)].iloc[:,3] == min_funds])\n",
    "    #print (min_funds)\n",
    "    \n",
    "    # Bottom 10 funding\n",
    "    #bot10_funds = n.nsmallest(10)\n",
    "    #min_funds_uni.append(locals()['df_'+str(i)].iloc[:,2][locals()['df_'+str(i)].iloc[:,3] == bot10_funds])\n",
    "    #print (bot10_funds)\n",
    "    \n",
    "#print(approved_funds)\n",
    "#del n, m, max_funds, top10_funds, min_funds, bot10_funds\n",
    "\n",
    "plt.scatter(years, approved_funds)\n",
    "\n",
    "coef = np.polyfit(years, approved_funds,1)\n",
    "reg_model = np.poly1d(coef)\n",
    "print ('The Regression Model of funding from 107 to 111 is ',reg_model)\n",
    "print()\n",
    "\n",
    "plt.plot(years, reg_model(years), color='red')\n",
    "plt.xticks(years)\n",
    "\n",
    "plt.show()\n",
    "print()\n",
    "\n",
    "for i in range (5) :\n",
    "    print ( 'Maximum funding in year', years[i], 'is', max_funds_uni[i].values)\n",
    "print()\n",
    "\n",
    "for i in range (5) :\n",
    "    print ( 'Minimum funding in year', years[i], 'is', min_funds_uni[i].values)"
   ]
  },
  {
   "cell_type": "code",
   "execution_count": 42,
   "id": "9e79636d-f223-470e-86f3-0998b754d9f6",
   "metadata": {},
   "outputs": [
    {
     "name": "stdout",
     "output_type": "stream",
     "text": [
      "csv\n",
      "csv\n",
      "csv\n",
      "csv\n",
      "csv\n"
     ]
    }
   ],
   "source": [
    "for i in range(107,112):\n",
    "    print('')"
   ]
  },
  {
   "cell_type": "code",
   "execution_count": null,
   "id": "2f99c826-19dc-4047-99fe-b2626cab1a01",
   "metadata": {},
   "outputs": [],
   "source": []
  }
 ],
 "metadata": {
  "kernelspec": {
   "display_name": "Python 3 (ipykernel)",
   "language": "python",
   "name": "python3"
  },
  "language_info": {
   "codemirror_mode": {
    "name": "ipython",
    "version": 3
   },
   "file_extension": ".py",
   "mimetype": "text/x-python",
   "name": "python",
   "nbconvert_exporter": "python",
   "pygments_lexer": "ipython3",
   "version": "3.12.3"
  }
 },
 "nbformat": 4,
 "nbformat_minor": 5
}
