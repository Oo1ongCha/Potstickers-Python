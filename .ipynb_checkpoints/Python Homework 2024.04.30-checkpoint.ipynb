{
 "cells": [
  {
   "cell_type": "code",
   "execution_count": null,
   "id": "750ee4b9-739d-4f2a-bb5d-9027f572a377",
   "metadata": {},
   "outputs": [],
   "source": [
    "#上課程式碼\n",
    "\n",
    "# analyzing the Seoul bike data\n",
    "# read in the data file\n",
    "import pandas as pd\n",
    "df = pd.read_csv('SeoulBikeData.csv', index_col=['Date'])\n",
    "df = pd.read_csv('SeoulBikeData.csv', encoding='gbk', index_col=['Date'])\n",
    "df\n",
    "\n",
    "# select only the data entries of ['Functioning Day'] == 'Yes' and drop the 'Functioning Day' feature\n",
    "data = df.copy()\n",
    "print(data)\n",
    "data = data[data['Functioning Day'] == 'Yes']\n",
    "print(data)\n",
    "data.pop('Functioning Day')\n",
    "print(data)\n",
    "\n",
    "# find the column names with odd codes and change the\n",
    "print(data.columns)\n",
    "data = data.rename(columns={'Temperature(癈)':'Temperature(C)', 'Dew point temperature(癈)':'Dew point temperature(C)'})\n",
    "print(data.columns)\n",
    "\n",
    "# convert the text features into numeric\n",
    "from sklearn.preprocessing import LabelEncoder\n",
    "le = LabelEncoder()\n",
    "print(data)\n",
    "print(data['Seasons'])\n",
    "data['Seasons'] = le.fit_transform(data['Seasons'])\n",
    "data['Holiday'] = le.fit_transform(data['Holiday'])\n",
    "print(data)\n",
    "\n",
    "# extract the target variable\n",
    "print(data)\n",
    "target = data.pop('Rented Bike Count')\n",
    "print(data)\n",
    "print(target)\n",
    "\n",
    "# start training and testing the multiple regression model\n",
    "from sklearn.model_selection import train_test_split\n",
    "data_train, data_test, target_train, target_test = train_test_split(data.values, target.values, test_size=0.2)\n",
    "\n",
    "from sklearn.linear_model import LinearRegression\n",
    "reg_model = LinearRegression()\n",
    "reg_model.fit(data_train, target_train)\n",
    "predictions = reg_model.predict(data_test)\n",
    "\n",
    "print(reg_model.score(data_train, target_train).round(3))\n",
    "print(reg_model.score(data_test, target_test).round(3))\n"
   ]
  }
 ],
 "metadata": {
  "kernelspec": {
   "display_name": "Python 3 (ipykernel)",
   "language": "python",
   "name": "python3"
  },
  "language_info": {
   "codemirror_mode": {
    "name": "ipython",
    "version": 3
   },
   "file_extension": ".py",
   "mimetype": "text/x-python",
   "name": "python",
   "nbconvert_exporter": "python",
   "pygments_lexer": "ipython3",
   "version": "3.12.3"
  }
 },
 "nbformat": 4,
 "nbformat_minor": 5
}
